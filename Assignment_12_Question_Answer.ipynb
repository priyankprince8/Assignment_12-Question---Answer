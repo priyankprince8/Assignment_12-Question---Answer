{
  "nbformat": 4,
  "nbformat_minor": 0,
  "metadata": {
    "colab": {
      "provenance": []
    },
    "kernelspec": {
      "name": "python3",
      "display_name": "Python 3"
    },
    "language_info": {
      "name": "python"
    }
  },
  "cells": [
    {
      "cell_type": "code",
      "source": [
        "#Question 1\n",
        "class Node:\n",
        "    def __init__(self, data=None):\n",
        "        self.data = data\n",
        "        self.next = None\n",
        "\n",
        "def delete_middle_node(head):\n",
        "    if head is None or head.next is None:\n",
        "        return None\n",
        "\n",
        "    slow_ptr = head\n",
        "    fast_ptr = head\n",
        "    prev_ptr = None\n",
        "\n",
        "    while fast_ptr is not None and fast_ptr.next is not None:\n",
        "        fast_ptr = fast_ptr.next.next\n",
        "        prev_ptr = slow_ptr\n",
        "        slow_ptr = slow_ptr.next\n",
        "\n",
        "    prev_ptr.next = slow_ptr.next\n",
        "    del slow_ptr\n",
        "\n",
        "    return head\n",
        "\n",
        "# Create the linked list 1->2->3->4->5\n",
        "head = Node(1)\n",
        "node2 = Node(2)\n",
        "node3 = Node(3)\n",
        "node4 = Node(4)\n",
        "node5 = Node(5)\n",
        "\n",
        "head.next = node2\n",
        "node2.next = node3\n",
        "node3.next = node4\n",
        "node4.next = node5\n",
        "\n",
        "head = delete_middle_node(head)\n",
        "\n",
        "current = head\n",
        "while current is not None:\n",
        "    print(current.data, end=\" \")\n",
        "    current = current.next\n"
      ],
      "metadata": {
        "colab": {
          "base_uri": "https://localhost:8080/"
        },
        "id": "Z4_NjN3248gG",
        "outputId": "b74364b3-ffe6-4f5e-9b9a-25f2169f0d79"
      },
      "execution_count": 28,
      "outputs": [
        {
          "output_type": "stream",
          "name": "stdout",
          "text": [
            "1 2 4 5 "
          ]
        }
      ]
    },
    {
      "cell_type": "code",
      "source": [
        "#LinkedList: 2->4->6->7->5->1\n",
        "head = Node(2)\n",
        "node2 = Node(4)\n",
        "node3 = Node(6)\n",
        "node4 = Node(7)\n",
        "node5 = Node(5)\n",
        "node6 = Node(1)\n",
        "head.next = node2\n",
        "node2.next = node3\n",
        "node3.next = node4\n",
        "node4.next = node5\n",
        "node5.next = node6\n",
        "\n",
        "head = delete_middle_node(head)\n",
        "\n",
        "current = head\n",
        "while current is not None:\n",
        "    print(current.data, end=\" \")\n",
        "    current = current.next"
      ],
      "metadata": {
        "colab": {
          "base_uri": "https://localhost:8080/"
        },
        "id": "DzuuDv965HaQ",
        "outputId": "3096e91b-0be3-4027-a96c-e52d7e21c501"
      },
      "execution_count": 29,
      "outputs": [
        {
          "output_type": "stream",
          "name": "stdout",
          "text": [
            "2 4 6 5 1 "
          ]
        }
      ]
    },
    {
      "cell_type": "code",
      "source": [
        "#Question 2\n",
        "class Node:\n",
        "    def __init__(self, data=None):\n",
        "        self.data = data\n",
        "        self.next = None\n",
        "\n",
        "def detect_loop(head):\n",
        "    slow_ptr = head\n",
        "    fast_ptr = head\n",
        "\n",
        "    while fast_ptr is not None and fast_ptr.next is not None:\n",
        "        slow_ptr = slow_ptr.next\n",
        "        fast_ptr = fast_ptr.next.next\n",
        "\n",
        "        if slow_ptr == fast_ptr:\n",
        "            return True\n",
        "\n",
        "    return False\n",
        "\n",
        "head = Node(1)\n",
        "node2 = Node(3)\n",
        "node3 = Node(4)\n",
        "\n",
        "head.next = node2\n",
        "node2.next = node3\n",
        "\n",
        "x = 2\n",
        "current = head\n",
        "count = 1\n",
        "\n",
        "while count < x:\n",
        "    current = current.next\n",
        "    count += 1\n",
        "\n",
        "node3.next = current\n",
        "\n",
        "has_loop = detect_loop(head)\n",
        "\n",
        "print(has_loop)\n"
      ],
      "metadata": {
        "colab": {
          "base_uri": "https://localhost:8080/"
        },
        "id": "Qn5CdCwf6O7A",
        "outputId": "60a36b4e-0a50-43aa-af52-8b13c7444fb7"
      },
      "execution_count": 30,
      "outputs": [
        {
          "output_type": "stream",
          "name": "stdout",
          "text": [
            "True\n"
          ]
        }
      ]
    },
    {
      "cell_type": "code",
      "source": [
        "head = Node(1)\n",
        "node2 = Node(8)\n",
        "node3 = Node(3)\n",
        "node4 = Node(4)\n",
        "\n",
        "head.next = node2\n",
        "node2.next = node3\n",
        "node3.next = node4\n",
        "\n",
        "x = 0\n",
        "if x >= 0:\n",
        "    current = head\n",
        "    count = 0\n",
        "\n",
        "    while count < x:\n",
        "        current = current.next\n",
        "        count += 1\n",
        "\n",
        "    current.next = None\n",
        "\n",
        "has_loop = detect_loop(head)\n",
        "\n",
        "print(has_loop)"
      ],
      "metadata": {
        "colab": {
          "base_uri": "https://localhost:8080/"
        },
        "id": "YJLhIgiG7b3g",
        "outputId": "1b092c46-4109-4622-a887-b5b48e9225ad"
      },
      "execution_count": 31,
      "outputs": [
        {
          "output_type": "stream",
          "name": "stdout",
          "text": [
            "False\n"
          ]
        }
      ]
    },
    {
      "cell_type": "code",
      "source": [
        "#Question 3\n",
        "class Node:\n",
        "    def __init__(self, data=None):\n",
        "        self.data = data\n",
        "        self.next = None\n",
        "\n",
        "def find_nth_node_from_end(head, N):\n",
        "    if head is None or N <= 0:\n",
        "        return None\n",
        "\n",
        "    main_ptr = head\n",
        "    ref_ptr = head\n",
        "\n",
        "    count = 0\n",
        "    while count < N:\n",
        "        if main_ptr is None:\n",
        "            return None\n",
        "        main_ptr = main_ptr.next\n",
        "        count += 1\n",
        "\n",
        "    while main_ptr is not None:\n",
        "        main_ptr = main_ptr.next\n",
        "        ref_ptr = ref_ptr.next\n",
        "\n",
        "    return ref_ptr.data\n",
        "\n",
        "# Create the linked list 1->2->3->4->5->6->7->8->9\n",
        "head = Node(1)\n",
        "current = head\n",
        "for i in range(2, 10):\n",
        "    node = Node(i)\n",
        "    current.next = node\n",
        "    current = node\n",
        "\n",
        "N = 2\n",
        "result = find_nth_node_from_end(head, N)\n",
        "\n",
        "print(result)\n"
      ],
      "metadata": {
        "colab": {
          "base_uri": "https://localhost:8080/"
        },
        "id": "Ds02n-Gb75DC",
        "outputId": "f080f5f6-cd40-48de-b4e4-1e75be600708"
      },
      "execution_count": 32,
      "outputs": [
        {
          "output_type": "stream",
          "name": "stdout",
          "text": [
            "8\n"
          ]
        }
      ]
    },
    {
      "cell_type": "code",
      "source": [
        "class Node:\n",
        "    def __init__(self, data=None):\n",
        "        self.data = data\n",
        "        self.next = None\n",
        "\n",
        "def find_nth_node_from_end(head, N):\n",
        "    if head is None or N <= 0:\n",
        "        return -1\n",
        "\n",
        "    main_ptr = head\n",
        "    ref_ptr = head\n",
        "\n",
        "    count = 0\n",
        "    while count < N:\n",
        "        if main_ptr is None:\n",
        "            return -1\n",
        "        main_ptr = main_ptr.next\n",
        "        count += 1\n",
        "\n",
        "    while main_ptr is not None:\n",
        "        main_ptr = main_ptr.next\n",
        "        ref_ptr = ref_ptr.next\n",
        "\n",
        "    return ref_ptr.data\n",
        "\n",
        "# Create the linked list 10->5->100->5\n",
        "head = Node(10)\n",
        "node2 = Node(5)\n",
        "node3 = Node(100)\n",
        "node4 = Node(5)\n",
        "\n",
        "head.next = node2\n",
        "node2.next = node3\n",
        "node3.next = node4\n",
        "\n",
        "N = 5\n",
        "result = find_nth_node_from_end(head, N)\n",
        "\n",
        "print(result)\n"
      ],
      "metadata": {
        "colab": {
          "base_uri": "https://localhost:8080/"
        },
        "id": "o-Y-nYhk8a-N",
        "outputId": "20617d84-25ea-4cab-b013-bb1ccd1ac0ab"
      },
      "execution_count": 33,
      "outputs": [
        {
          "output_type": "stream",
          "name": "stdout",
          "text": [
            "-1\n"
          ]
        }
      ]
    },
    {
      "cell_type": "code",
      "source": [
        "#Question 5\n",
        "class Node:\n",
        "    def __init__(self, data=None):\n",
        "        self.data = data\n",
        "        self.next = None\n",
        "\n",
        "def detect_and_remove_loop(head):\n",
        "    slow_ptr = head\n",
        "    fast_ptr = head\n",
        "\n",
        "    while fast_ptr is not None and fast_ptr.next is not None:\n",
        "        slow_ptr = slow_ptr.next\n",
        "        fast_ptr = fast_ptr.next.next\n",
        "\n",
        "        if slow_ptr == fast_ptr:\n",
        "            break\n",
        "\n",
        "    if slow_ptr != fast_ptr:\n",
        "        return -1\n",
        "\n",
        "    slow_ptr = head\n",
        "    while slow_ptr.next != fast_ptr.next:\n",
        "        slow_ptr = slow_ptr.next\n",
        "        fast_ptr = fast_ptr.next\n",
        "\n",
        "    fast_ptr.next = None\n",
        "\n",
        "    return head\n",
        "\n",
        "# Create the linked list 1 -> 3 -> 4\n",
        "head = Node(1)\n",
        "node2 = Node(3)\n",
        "node3 = Node(4)\n",
        "\n",
        "head.next = node2\n",
        "node2.next = node3\n",
        "node3.next = node2\n",
        "\n",
        "result = detect_and_remove_loop(head)\n",
        "\n",
        "while result is not None:\n",
        "    print(result.data, end=\" \")\n",
        "    result = result.next\n",
        "\n"
      ],
      "metadata": {
        "colab": {
          "base_uri": "https://localhost:8080/"
        },
        "id": "WESH5bPW8g9Y",
        "outputId": "fdeb2eb1-e405-4101-bcf5-a44ff5563417"
      },
      "execution_count": 34,
      "outputs": [
        {
          "output_type": "stream",
          "name": "stdout",
          "text": [
            "1 3 4 "
          ]
        }
      ]
    },
    {
      "cell_type": "code",
      "source": [
        "class Node:\n",
        "    def __init__(self, data=None):\n",
        "        self.data = data\n",
        "        self.next = None\n",
        "\n",
        "def find_first_node_value(head):\n",
        "    if head is None:\n",
        "        return None\n",
        "    return head.data\n",
        "\n",
        "# Create the linked list 1 -> 8 -> 3 -> 4\n",
        "head = Node(1)\n",
        "node2 = Node(8)\n",
        "node3 = Node(3)\n",
        "node4 = Node(4)\n",
        "\n",
        "head.next = node2\n",
        "node2.next = node3\n",
        "node3.next = node4\n",
        "\n",
        "result = find_first_node_value(head)\n",
        "\n",
        "print(result)\n"
      ],
      "metadata": {
        "colab": {
          "base_uri": "https://localhost:8080/"
        },
        "id": "tuiQY2Mi89bv",
        "outputId": "1b5e8833-4cf3-451e-cacf-3204b8532a17"
      },
      "execution_count": 35,
      "outputs": [
        {
          "output_type": "stream",
          "name": "stdout",
          "text": [
            "1\n"
          ]
        }
      ]
    },
    {
      "cell_type": "code",
      "source": [
        "#Question 6\n",
        "class Node:\n",
        "    def __init__(self, data=None):\n",
        "        self.data = data\n",
        "        self.next = None\n",
        "\n",
        "def delete_nodes(head, M, N):\n",
        "    if M == 0 or head is None:\n",
        "        return head\n",
        "\n",
        "    current = head\n",
        "    prev = None\n",
        "\n",
        "    count = 0\n",
        "    while current is not None and count < M:\n",
        "        prev = current\n",
        "        current = current.next\n",
        "        count += 1\n",
        "\n",
        "    count = 0\n",
        "    while current is not None and count < N:\n",
        "        next_node = current.next\n",
        "        current = None\n",
        "        current = next_node\n",
        "        count += 1\n",
        "\n",
        "    prev.next = current\n",
        "\n",
        "    return head\n",
        "\n",
        "# Create the linked list 1 -> 2 -> 3 -> 4 -> 5 -> 6 -> 7 -> 8\n",
        "head = Node(1)\n",
        "node2 = Node(2)\n",
        "node3 = Node(3)\n",
        "node4 = Node(4)\n",
        "node5 = Node(5)\n",
        "node6 = Node(6)\n",
        "node7 = Node(7)\n",
        "node8 = Node(8)\n",
        "\n",
        "head.next = node2\n",
        "node2.next = node3\n",
        "node3.next = node4\n",
        "node4.next = node5\n",
        "node5.next = node6\n",
        "\n",
        "M = 2\n",
        "N = 2\n",
        "\n",
        "result = delete_nodes(head, M, N)\n",
        "\n",
        "while result is not None:\n",
        "    print(result.data, end=\" \")\n",
        "    result = result.next\n"
      ],
      "metadata": {
        "colab": {
          "base_uri": "https://localhost:8080/"
        },
        "id": "ysVe_lOu-Dg0",
        "outputId": "043b3a23-d3ef-4a4b-ca9a-c60084f61c54"
      },
      "execution_count": 37,
      "outputs": [
        {
          "output_type": "stream",
          "name": "stdout",
          "text": [
            "1 2 5 6 "
          ]
        }
      ]
    },
    {
      "cell_type": "code",
      "source": [
        "# Create the linked list 1 -> 2 -> 3 -> 4 -> 5 -> 6 -> 7 -> 8 -> 9 -> 10\n",
        "head = Node(1)\n",
        "node2 = Node(2)\n",
        "node3 = Node(3)\n",
        "node4 = Node(4)\n",
        "node5 = Node(5)\n",
        "node6 = Node(6)\n",
        "node7 = Node(7)\n",
        "node8 = Node(8)\n",
        "node9 = Node(9)\n",
        "node10= Node(10)\n",
        "\n",
        "head.next = node2\n",
        "node2.next = node3\n",
        "node3.next = node4\n",
        "node4.next = node5\n",
        "node5.next = node6\n",
        "node6.next = node7\n",
        "node7.next = node8\n",
        "\n",
        "M = 3\n",
        "N = 2\n",
        "\n",
        "result = delete_nodes(head, M, N)\n",
        "\n",
        "while result is not None:\n",
        "    print(result.data, end=\" \")\n",
        "    result = result.next"
      ],
      "metadata": {
        "colab": {
          "base_uri": "https://localhost:8080/"
        },
        "id": "RZDTMi_f-RNc",
        "outputId": "f4f7520d-2ce0-472f-e035-1ab172276269"
      },
      "execution_count": 38,
      "outputs": [
        {
          "output_type": "stream",
          "name": "stdout",
          "text": [
            "1 2 3 6 7 8 "
          ]
        }
      ]
    },
    {
      "cell_type": "code",
      "source": [
        "# Create the linked list 1 -> 2 -> 3 -> 4 -> 5 -> 6 -> 7 -> 8 -> 9 -> 10\n",
        "head = Node(1)\n",
        "node2 = Node(2)\n",
        "node3 = Node(3)\n",
        "node4 = Node(4)\n",
        "node5 = Node(5)\n",
        "node6 = Node(6)\n",
        "node7 = Node(7)\n",
        "node8 = Node(8)\n",
        "node9 = Node(9)\n",
        "node10= Node(10)\n",
        "\n",
        "head.next = node2\n",
        "node2.next = node3\n",
        "node3.next = node4\n",
        "node4.next = node5\n",
        "node5.next = node6\n",
        "node6.next = node7\n",
        "node7.next = node8\n",
        "\n",
        "M = 1\n",
        "N = 1\n",
        "\n",
        "result = delete_nodes(head, M, N)\n",
        "\n",
        "while result is not None:\n",
        "    print(result.data, end=\" \")\n",
        "    result = result.next"
      ],
      "metadata": {
        "colab": {
          "base_uri": "https://localhost:8080/"
        },
        "id": "lrh0qukQ_X-I",
        "outputId": "096ac74e-9dbd-49bc-bf13-53781252e07d"
      },
      "execution_count": 39,
      "outputs": [
        {
          "output_type": "stream",
          "name": "stdout",
          "text": [
            "1 3 4 5 6 7 8 "
          ]
        }
      ]
    },
    {
      "cell_type": "code",
      "source": [
        "#Question 7\n",
        "class Node:\n",
        "    def __init__(self, data=None):\n",
        "        self.data = data\n",
        "        self.next = None\n",
        "\n",
        "def insert_at_alternate_positions(first, second):\n",
        "    if second is None:\n",
        "        return first\n",
        "\n",
        "    current_first = first\n",
        "    current_second = second\n",
        "\n",
        "    while current_first is not None and current_second is not None:\n",
        "        next_first = current_first.next\n",
        "        next_second = current_second.next\n",
        "\n",
        "        current_first.next = current_second\n",
        "        current_second.next = next_first\n",
        "\n",
        "        current_first = next_first\n",
        "        current_second = next_second\n",
        "\n",
        "    if current_second is not None:\n",
        "        current_first.next = current_second\n",
        "\n",
        "    second = None\n",
        "\n",
        "    return first\n",
        "\n",
        "# Create the first list: 5 -> 7 -> 17 -> 13 -> 11\n",
        "first = Node(5)\n",
        "node2 = Node(7)\n",
        "node3 = Node(17)\n",
        "node4 = Node(13)\n",
        "node5 = Node(11)\n",
        "\n",
        "first.next = node2\n",
        "node2.next = node3\n",
        "node3.next = node4\n",
        "node4.next = node5\n",
        "\n",
        "# Create the second list: 12 -> 10 -> 2 -> 4 -> 6\n",
        "second = Node(12)\n",
        "node6 = Node(10)\n",
        "node7 = Node(2)\n",
        "node8 = Node(4)\n",
        "node9 = Node(6)\n",
        "\n",
        "second.next = node6\n",
        "node6.next = node7\n",
        "node7.next = node8\n",
        "node8.next = node9\n",
        "\n",
        "result = insert_at_alternate_positions(first, second)\n",
        "\n",
        "while result is not None:\n",
        "    print(result.data, end=\" \")\n",
        "    result = result.next\n",
        "\n",
        "print()\n",
        "while second is not None:\n",
        "    print(second.data, end=\" \")\n",
        "    second = second.next\n"
      ],
      "metadata": {
        "colab": {
          "base_uri": "https://localhost:8080/"
        },
        "id": "pxbIrWJM_5kb",
        "outputId": "994ed147-68d8-460a-dc15-84a22484e54e"
      },
      "execution_count": 41,
      "outputs": [
        {
          "output_type": "stream",
          "name": "stdout",
          "text": [
            "5 12 7 10 17 2 13 4 11 6 \n",
            "12 7 10 17 2 13 4 11 6 "
          ]
        }
      ]
    },
    {
      "cell_type": "code",
      "source": [
        "#Question 8\n",
        "class Node:\n",
        "    def __init__(self, data=None):\n",
        "        self.data = data\n",
        "        self.next = None\n",
        "\n",
        "def is_circular(head):\n",
        "    if head is None:\n",
        "        return False\n",
        "\n",
        "    slow = head\n",
        "    fast = head.next\n",
        "\n",
        "    while fast is not None and fast.next is not None:\n",
        "        if slow == fast:\n",
        "            return True\n",
        "\n",
        "        slow = slow.next\n",
        "        fast = fast.next.next\n",
        "\n",
        "    return False\n",
        "\n",
        "# Create a circular linked list: 1 -> 2 -> 3 -> 4 -> 5 -> 2\n",
        "head = Node(1)\n",
        "node2 = Node(2)\n",
        "node3 = Node(3)\n",
        "node4 = Node(4)\n",
        "node5 = Node(5)\n",
        "\n",
        "head.next = node2\n",
        "node2.next = node3\n",
        "node3.next = node4\n",
        "node4.next = node5\n",
        "node5.next = node2\n",
        "\n",
        "result = is_circular(head)\n",
        "\n",
        "if result:\n",
        "    print(\"The linked list is circular.\")\n",
        "else:\n",
        "    print(\"The linked list is not circular.\")\n"
      ],
      "metadata": {
        "colab": {
          "base_uri": "https://localhost:8080/"
        },
        "id": "YPgEg-S6AXHl",
        "outputId": "33c4dec4-2cb2-450e-c574-f1ab268b00bf"
      },
      "execution_count": 42,
      "outputs": [
        {
          "output_type": "stream",
          "name": "stdout",
          "text": [
            "The linked list is circular.\n"
          ]
        }
      ]
    },
    {
      "cell_type": "code",
      "source": [],
      "metadata": {
        "id": "yrduUb68AmAw"
      },
      "execution_count": null,
      "outputs": []
    }
  ]
}